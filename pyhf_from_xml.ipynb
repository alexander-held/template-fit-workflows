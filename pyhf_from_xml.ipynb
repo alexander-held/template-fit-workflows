{
 "cells": [
  {
   "cell_type": "markdown",
   "metadata": {},
   "source": [
    "# Read xml workspace and fit using pyhf"
   ]
  },
  {
   "cell_type": "code",
   "execution_count": 1,
   "metadata": {},
   "outputs": [],
   "source": [
    "import pyhf\n",
    "import pyhf.readxml\n",
    "import json\n",
    "\n",
    "pyhf.set_backend(pyhf.tensor.numpy_backend(),pyhf.optimize.minuit_optimizer())"
   ]
  },
  {
   "cell_type": "code",
   "execution_count": 2,
   "metadata": {},
   "outputs": [],
   "source": [
    "main_xml_path = \"TRExFitter/minimal_example/RooStats/minimal_example.xml\"\n",
    "parent_folder = \"TRExFitter/\"\n",
    "json_path     = \"workspace_from_xml.json\""
   ]
  },
  {
   "cell_type": "markdown",
   "metadata": {},
   "source": [
    "### translate the `xml` to python and dump it to a `json` file for later use"
   ]
  },
  {
   "cell_type": "code",
   "execution_count": 3,
   "metadata": {},
   "outputs": [],
   "source": [
    "spec = pyhf.readxml.parse(main_xml_path, parent_folder, track_progress=False)\n",
    "\n",
    "with open(json_path, \"w\") as f:\n",
    "    json.dump(spec, f, sort_keys=True, indent=4)"
   ]
  },
  {
   "cell_type": "markdown",
   "metadata": {},
   "source": [
    "### load spec from file again"
   ]
  },
  {
   "cell_type": "code",
   "execution_count": 4,
   "metadata": {},
   "outputs": [],
   "source": [
    "with open(json_path, \"r\") as f:\n",
    "    spec = json.load(f)"
   ]
  },
  {
   "cell_type": "markdown",
   "metadata": {},
   "source": [
    "### create the relevant pyhf objects"
   ]
  },
  {
   "cell_type": "code",
   "execution_count": 5,
   "metadata": {},
   "outputs": [],
   "source": [
    "workspace = pyhf.Workspace(spec)\n",
    "pdf = workspace.model(measurement_name=None) # get default model if None\n",
    "data = workspace.data(pdf, with_aux=True)\n",
    "\n",
    "minuit = pyhf.optimizer._make_minuit(pyhf.utils.loglambdav,\n",
    "                                     data,\n",
    "                                     pdf,\n",
    "                                     pdf.config.suggested_init(),\n",
    "                                     pdf.config.suggested_bounds())"
   ]
  },
  {
   "cell_type": "markdown",
   "metadata": {},
   "source": [
    "### perform an unconstrained fit"
   ]
  },
  {
   "cell_type": "code",
   "execution_count": 6,
   "metadata": {},
   "outputs": [
    {
     "name": "stdout",
     "output_type": "stream",
     "text": [
      "CPU times: user 57.5 ms, sys: 5.81 ms, total: 63.3 ms\n",
      "Wall time: 58.7 ms\n"
     ]
    }
   ],
   "source": [
    "%%time\n",
    "result = minuit.migrad()\n",
    "#minuit.minos()"
   ]
  },
  {
   "cell_type": "code",
   "execution_count": 7,
   "metadata": {},
   "outputs": [
    {
     "name": "stdout",
     "output_type": "stream",
     "text": [
      "lumi: 1.002 +/- 0.020\n",
      "staterror_Signal_region[0]: 1.000 +/- 0.006\n",
      "staterror_Signal_region[1]: 0.999 +/- 0.006\n",
      "staterror_Signal_region[2]: 1.003 +/- 0.005\n",
      "staterror_Signal_region[3]: 0.998 +/- 0.006\n",
      "staterror_Signal_region[4]: 0.999 +/- 0.008\n",
      "staterror_Signal_region[5]: 0.997 +/- 0.012\n",
      "Luminosity: 0.001 +/- 0.974\n",
      "Signal_norm: 1.186 +/- 0.037\n"
     ]
    }
   ],
   "source": [
    "# get the names of all parameters\n",
    "# this code is from https://github.com/scikit-hep/pyhf/pull/653\n",
    "labels = [\"{}[{}]\".format(k, i) if pdf.config.param_set(k).n_parameters > 1 else k\n",
    "          for k in pdf.config.par_order\n",
    "          for i in range(pdf.config.param_set(k).n_parameters)]\n",
    "\n",
    "bestfit = pyhf.tensorlib.astensor([x[1] for x in minuit.values.items()])\n",
    "errors = pyhf.tensorlib.astensor([x[1] for x in minuit.errors.items()])\n",
    "\n",
    "for i, l in enumerate(labels):\n",
    "    print(f\"{l}: {bestfit[i]:.3f} +/- {errors[i]:.3f}\")"
   ]
  },
  {
   "cell_type": "markdown",
   "metadata": {},
   "source": [
    "### show the correlation matrix"
   ]
  },
  {
   "cell_type": "code",
   "execution_count": 8,
   "metadata": {},
   "outputs": [
    {
     "name": "stdout",
     "output_type": "stream",
     "text": [
      "-----------------------------------------------------------------------\n",
      "|    |     p0     p1     p2     p3     p4     p5     p6     p7     p8 |\n",
      "-----------------------------------------------------------------------\n",
      "| p0 |  1.000 -0.181 -0.175 -0.023  0.034 -0.004 -0.040 -0.945 -0.234 |\n",
      "| p1 | -0.181  1.000  0.323  0.043 -0.062  0.007  0.073 -0.008  0.432 |\n",
      "| p2 | -0.175  0.323  1.000  0.056 -0.044  0.017  0.075 -0.007  0.398 |\n",
      "| p3 | -0.023  0.043  0.056  1.000  0.240  0.155  0.068 -0.001 -0.256 |\n",
      "| p4 |  0.034 -0.062 -0.044  0.240  1.000  0.173  0.052  0.001 -0.431 |\n",
      "| p5 | -0.004  0.007  0.017  0.155  0.173  1.000  0.042 -0.000 -0.210 |\n",
      "| p6 | -0.040  0.073  0.075  0.068  0.052  0.042  1.000 -0.002  0.013 |\n",
      "| p7 | -0.945 -0.008 -0.007 -0.001  0.001 -0.000 -0.002  1.000 -0.010 |\n",
      "| p8 | -0.234  0.432  0.398 -0.256 -0.431 -0.210  0.013 -0.010  1.000 |\n",
      "-----------------------------------------------------------------------\n"
     ]
    }
   ],
   "source": [
    "minuit.print_matrix()"
   ]
  },
  {
   "cell_type": "markdown",
   "metadata": {},
   "source": [
    "parameters 0 and 7 (`lumi` and `Luminosity`) are highly anti-correlated"
   ]
  }
 ],
 "metadata": {
  "kernelspec": {
   "display_name": "Python (pyhf)",
   "language": "python",
   "name": "pyhf"
  },
  "language_info": {
   "codemirror_mode": {
    "name": "ipython",
    "version": 3
   },
   "file_extension": ".py",
   "mimetype": "text/x-python",
   "name": "python",
   "nbconvert_exporter": "python",
   "pygments_lexer": "ipython3",
   "version": "3.7.5"
  }
 },
 "nbformat": 4,
 "nbformat_minor": 2
}
